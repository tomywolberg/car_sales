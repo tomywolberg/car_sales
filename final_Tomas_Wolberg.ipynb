{
 "cells": [
  {
   "cell_type": "markdown",
   "id": "3ed2d0d69888513b",
   "metadata": {},
   "source": [
    "\n",
    "# Examen Final\n",
    "\n",
    "* Finalización: 11am\n",
    "\n",
    "\n",
    "El examen es a libro abierto. \n",
    "* Se permite googlear.\n",
    "Será considerado cómo descalificación y caerá sobre el alumno todo el peso del reglamento académico el caso de que el alumno:\n",
    "* Use una llms (Bard, chatgpt, bing,etc)\n",
    "* Se mensajee con otros alumnos\n",
    "\n",
    "\n",
    "\n",
    "# Ejercicio 1: Regresión (30pts)\n",
    "**dataset**: \"ventas_de_autos.csv\"\n",
    "**link**:  https://drive.google.com/file/d/1Uy4I3xus9Rh2MlhEkLNFo10FKuSNKdTQ/view?usp=sharing\n",
    "\n",
    "*Contexto:\n",
    "En un trabajo te piden predecir las ventas en función a las distintas variables que los ingenieros de datos pudieron recolectar. Se espera una interpretación clara sobre las razones que determinan las ventas de un auto.*\n",
    "\n",
    "1. Entrene una regresión con statsmodels. (5pts/30pts)\n",
    "2. ¿Hay que considerar una variable que tiene un p-valor menor a 0.5?  (5pts/30pts)\n",
    "3. ¿Que variable de tu regresión tiene un p-valor menor a 0.5? (2.5pts/30pts)\n",
    "4. Manteniendo todas las variables constantes. ¿Cual es el aumento esperado de las ventas si el auto es de japón?  (5pts/30pts)\n",
    "5. Manteniendo todas las variables constantes. ¿Cual es el aumento o disminución esperada de las ventas si aumenta en 1 la edad del auto? (5pts/30pts)\n",
    "6. Prediga las ventas para un auto que tiene 116mil de kilometraje, el pais de origen es Estados Unidos, el Ranking en revistas de auto es de 150, el precio de mercado libre es de  50.000 y la fecha_de_elaboracion es de 2015 (7.5pts/30pts)\n",
    "\n",
    "# Ejercicio 2: Clasificación. (40pts)\n",
    "**dataset**: \"leads_a_clientes.csv\"\n",
    "**link** https://drive.google.com/file/d/1v0o7z70v06NIaBbmo6kwXdZX6pPf8Bdr/view?usp=sharing\n",
    "\n",
    "*Contexto:\n",
    "Se refieren cómo leads a aquellos clientes que son los prospectos, esto es, potenciales clientes que luego deciden si convertirse o no en clientes. Tu hipotesis es que dada la interacción del cliente con la empresa y sus caracteristicas, hay clientes con mayor probabilidad de conversión que otros.*\n",
    "\n",
    "1. Calcular la variable edad (2pts/40pts)\n",
    "2. Graficar boxplot de la variable edad (2pts/40pts)\n",
    "3. Graficar boxplot de la variable  ingreso_estimado en funcion de la variable categoria.(2pts/40pts)\n",
    "4. ¿A que conclusión llega en base al anterior boxplot? En base a esa explicación decida si debe sacar una categoria o no. (8pts/40pts)\n",
    "5. Grafique la variable cantidad_mensajes en funcion de si es cliente o no. (2pts/40pts)\n",
    "4. ¿Que conclusiones llega segun este gráfico? Que hipotesis tiene? (4pts/40pts)\n",
    "5. Separar train y test (1pts/40pts)\n",
    "6. Entrene un arbol de decision (1pts/40pts)\n",
    "7. Prediga en test  (4pts/40pts)\n",
    "8. Grafique una matriz de confusión de test. (2pts/40pts)\n",
    "9. Grafique un árbol. (4pts/40pts)\n",
    "10. ¿Cual es la variable del root node? ¿Que significa? Explique teniendo en cuenta el criterio de Gini Index (8pts/40pts)\n",
    "\n",
    "# Ejercicio 3: ROI (30pts)\n",
    "**datos**: Resultado del ejercicio anterior.\n",
    "\n",
    "Teniendo en cuenta los resultados de la matriz de confusión en test del ejercicio anterior.\n",
    "\n",
    "*Contexto: Tus hipotesis fueron demostradas dado el analisis de los puntos anteriores. Es decir, demostraste que esas variables eran consistentes con predecir que cliente va a convertir o no. Por lo tanto dado tu algoritmo la idea es generar una acción de la empresa. Hacer publicidad a los leads que predecis cómo clientes. Para esto debes responder:*\n",
    "\n",
    "1. Si una publicidad cuesta 10 ¿Cuanto sería la publicidad desperdiciada?  (10pts/30pts)\n",
    "2. Mirando la matriz de confusión cálcule el ROI del modelo suponiendo que la ganancia de un cliente por convertir es de 150, el costo de publicidad es de 10 y la inversión total corresponde al costo de publicidad total. (20pts/30pts)\n"
   ]
  },
  {
   "cell_type": "code",
   "execution_count": 115,
   "id": "adb06776989cf06f",
   "metadata": {
    "ExecuteTime": {
     "end_time": "2023-12-11T12:20:42.548319200Z",
     "start_time": "2023-12-11T12:20:42.485430500Z"
    }
   },
   "outputs": [],
   "source": [
    "import pandas as pd\n",
    "import numpy as np\n",
    "import matplotlib.pyplot as plt\n",
    "import seaborn as sns"
   ]
  },
  {
   "cell_type": "code",
   "execution_count": 116,
   "id": "e878f01615ee438",
   "metadata": {},
   "outputs": [],
   "source": [
    "ventas = pd.read_csv('ventas_de_autos.csv', sep = '|')"
   ]
  },
  {
   "cell_type": "code",
   "execution_count": 117,
   "id": "0cc58137",
   "metadata": {},
   "outputs": [
    {
     "data": {
      "text/html": [
       "<div>\n",
       "<style scoped>\n",
       "    .dataframe tbody tr th:only-of-type {\n",
       "        vertical-align: middle;\n",
       "    }\n",
       "\n",
       "    .dataframe tbody tr th {\n",
       "        vertical-align: top;\n",
       "    }\n",
       "\n",
       "    .dataframe thead th {\n",
       "        text-align: right;\n",
       "    }\n",
       "</style>\n",
       "<table border=\"1\" class=\"dataframe\">\n",
       "  <thead>\n",
       "    <tr style=\"text-align: right;\">\n",
       "      <th></th>\n",
       "      <th>Unnamed: 0</th>\n",
       "      <th>Kilometraje</th>\n",
       "      <th>Pais de Origen</th>\n",
       "      <th>Ranking en revistas de auto</th>\n",
       "      <th>precio en mercado libre</th>\n",
       "      <th>fecha_de_elaboracion</th>\n",
       "      <th>ventas</th>\n",
       "    </tr>\n",
       "  </thead>\n",
       "  <tbody>\n",
       "    <tr>\n",
       "      <th>0</th>\n",
       "      <td>0</td>\n",
       "      <td>112018.633266</td>\n",
       "      <td>Japón</td>\n",
       "      <td>148</td>\n",
       "      <td>61584.272399</td>\n",
       "      <td>2014-04-22</td>\n",
       "      <td>1.202479e+06</td>\n",
       "    </tr>\n",
       "    <tr>\n",
       "      <th>1</th>\n",
       "      <td>1</td>\n",
       "      <td>144461.926443</td>\n",
       "      <td>Italia</td>\n",
       "      <td>399</td>\n",
       "      <td>25158.524810</td>\n",
       "      <td>2022-09-10</td>\n",
       "      <td>4.647200e+05</td>\n",
       "    </tr>\n",
       "    <tr>\n",
       "      <th>2</th>\n",
       "      <td>2</td>\n",
       "      <td>122538.858334</td>\n",
       "      <td>Francia</td>\n",
       "      <td>424</td>\n",
       "      <td>19465.272138</td>\n",
       "      <td>2017-09-07</td>\n",
       "      <td>3.554535e+05</td>\n",
       "    </tr>\n",
       "    <tr>\n",
       "      <th>3</th>\n",
       "      <td>3</td>\n",
       "      <td>111252.220684</td>\n",
       "      <td>Estados Unidos</td>\n",
       "      <td>289</td>\n",
       "      <td>32689.870546</td>\n",
       "      <td>2016-03-30</td>\n",
       "      <td>6.441774e+05</td>\n",
       "    </tr>\n",
       "    <tr>\n",
       "      <th>4</th>\n",
       "      <td>4</td>\n",
       "      <td>87612.685871</td>\n",
       "      <td>Francia</td>\n",
       "      <td>450</td>\n",
       "      <td>20477.240703</td>\n",
       "      <td>2015-08-30</td>\n",
       "      <td>3.800819e+05</td>\n",
       "    </tr>\n",
       "    <tr>\n",
       "      <th>5</th>\n",
       "      <td>5</td>\n",
       "      <td>130949.352048</td>\n",
       "      <td>Corea del Sur</td>\n",
       "      <td>266</td>\n",
       "      <td>25562.497178</td>\n",
       "      <td>2018-08-04</td>\n",
       "      <td>4.816859e+05</td>\n",
       "    </tr>\n",
       "    <tr>\n",
       "      <th>6</th>\n",
       "      <td>6</td>\n",
       "      <td>90329.506196</td>\n",
       "      <td>China</td>\n",
       "      <td>186</td>\n",
       "      <td>37054.228679</td>\n",
       "      <td>2014-11-06</td>\n",
       "      <td>7.039471e+05</td>\n",
       "    </tr>\n",
       "    <tr>\n",
       "      <th>7</th>\n",
       "      <td>7</td>\n",
       "      <td>178895.735153</td>\n",
       "      <td>Estados Unidos</td>\n",
       "      <td>128</td>\n",
       "      <td>73181.893287</td>\n",
       "      <td>2015-08-08</td>\n",
       "      <td>1.423705e+06</td>\n",
       "    </tr>\n",
       "    <tr>\n",
       "      <th>8</th>\n",
       "      <td>8</td>\n",
       "      <td>192914.238298</td>\n",
       "      <td>Alemania</td>\n",
       "      <td>33</td>\n",
       "      <td>41496.499294</td>\n",
       "      <td>2022-09-17</td>\n",
       "      <td>7.999540e+05</td>\n",
       "    </tr>\n",
       "    <tr>\n",
       "      <th>9</th>\n",
       "      <td>9</td>\n",
       "      <td>79771.096171</td>\n",
       "      <td>Francia</td>\n",
       "      <td>32</td>\n",
       "      <td>52914.442052</td>\n",
       "      <td>2016-10-11</td>\n",
       "      <td>1.038587e+06</td>\n",
       "    </tr>\n",
       "    <tr>\n",
       "      <th>10</th>\n",
       "      <td>10</td>\n",
       "      <td>159386.382426</td>\n",
       "      <td>Estados Unidos</td>\n",
       "      <td>203</td>\n",
       "      <td>73164.400822</td>\n",
       "      <td>2022-01-20</td>\n",
       "      <td>1.421545e+06</td>\n",
       "    </tr>\n",
       "    <tr>\n",
       "      <th>11</th>\n",
       "      <td>11</td>\n",
       "      <td>108134.509352</td>\n",
       "      <td>Japón</td>\n",
       "      <td>245</td>\n",
       "      <td>16949.624525</td>\n",
       "      <td>2020-10-27</td>\n",
       "      <td>3.223525e+05</td>\n",
       "    </tr>\n",
       "    <tr>\n",
       "      <th>12</th>\n",
       "      <td>12</td>\n",
       "      <td>115768.689413</td>\n",
       "      <td>Francia</td>\n",
       "      <td>152</td>\n",
       "      <td>77886.634742</td>\n",
       "      <td>2014-09-11</td>\n",
       "      <td>1.534602e+06</td>\n",
       "    </tr>\n",
       "    <tr>\n",
       "      <th>13</th>\n",
       "      <td>13</td>\n",
       "      <td>185491.344467</td>\n",
       "      <td>Corea del Sur</td>\n",
       "      <td>164</td>\n",
       "      <td>55719.802506</td>\n",
       "      <td>2020-01-04</td>\n",
       "      <td>1.065624e+06</td>\n",
       "    </tr>\n",
       "    <tr>\n",
       "      <th>14</th>\n",
       "      <td>14</td>\n",
       "      <td>18852.031349</td>\n",
       "      <td>Francia</td>\n",
       "      <td>460</td>\n",
       "      <td>21963.670960</td>\n",
       "      <td>2021-03-11</td>\n",
       "      <td>4.111071e+05</td>\n",
       "    </tr>\n",
       "  </tbody>\n",
       "</table>\n",
       "</div>"
      ],
      "text/plain": [
       "    Unnamed: 0    Kilometraje  Pais de Origen  Ranking en revistas de auto  \\\n",
       "0            0  112018.633266           Japón                          148   \n",
       "1            1  144461.926443          Italia                          399   \n",
       "2            2  122538.858334         Francia                          424   \n",
       "3            3  111252.220684  Estados Unidos                          289   \n",
       "4            4   87612.685871         Francia                          450   \n",
       "5            5  130949.352048   Corea del Sur                          266   \n",
       "6            6   90329.506196           China                          186   \n",
       "7            7  178895.735153  Estados Unidos                          128   \n",
       "8            8  192914.238298        Alemania                           33   \n",
       "9            9   79771.096171         Francia                           32   \n",
       "10          10  159386.382426  Estados Unidos                          203   \n",
       "11          11  108134.509352           Japón                          245   \n",
       "12          12  115768.689413         Francia                          152   \n",
       "13          13  185491.344467   Corea del Sur                          164   \n",
       "14          14   18852.031349         Francia                          460   \n",
       "\n",
       "    precio en mercado libre fecha_de_elaboracion        ventas  \n",
       "0              61584.272399           2014-04-22  1.202479e+06  \n",
       "1              25158.524810           2022-09-10  4.647200e+05  \n",
       "2              19465.272138           2017-09-07  3.554535e+05  \n",
       "3              32689.870546           2016-03-30  6.441774e+05  \n",
       "4              20477.240703           2015-08-30  3.800819e+05  \n",
       "5              25562.497178           2018-08-04  4.816859e+05  \n",
       "6              37054.228679           2014-11-06  7.039471e+05  \n",
       "7              73181.893287           2015-08-08  1.423705e+06  \n",
       "8              41496.499294           2022-09-17  7.999540e+05  \n",
       "9              52914.442052           2016-10-11  1.038587e+06  \n",
       "10             73164.400822           2022-01-20  1.421545e+06  \n",
       "11             16949.624525           2020-10-27  3.223525e+05  \n",
       "12             77886.634742           2014-09-11  1.534602e+06  \n",
       "13             55719.802506           2020-01-04  1.065624e+06  \n",
       "14             21963.670960           2021-03-11  4.111071e+05  "
      ]
     },
     "execution_count": 117,
     "metadata": {},
     "output_type": "execute_result"
    }
   ],
   "source": [
    "ventas"
   ]
  },
  {
   "cell_type": "code",
   "execution_count": 118,
   "id": "fca55701",
   "metadata": {},
   "outputs": [],
   "source": [
    "ventas = ventas.drop(columns = ['Unnamed: 0'])"
   ]
  },
  {
   "cell_type": "code",
   "execution_count": 119,
   "id": "13eaff2a",
   "metadata": {},
   "outputs": [
    {
     "data": {
      "text/plain": [
       "Kilometraje                    0\n",
       "Pais de Origen                 0\n",
       "Ranking en revistas de auto    0\n",
       "precio en mercado libre        0\n",
       "fecha_de_elaboracion           0\n",
       "ventas                         0\n",
       "dtype: int64"
      ]
     },
     "execution_count": 119,
     "metadata": {},
     "output_type": "execute_result"
    }
   ],
   "source": [
    "ventas.isna().sum()"
   ]
  },
  {
   "cell_type": "code",
   "execution_count": 120,
   "id": "4cde94b1",
   "metadata": {},
   "outputs": [
    {
     "data": {
      "text/plain": [
       "Kilometraje                    float64\n",
       "Pais de Origen                  object\n",
       "Ranking en revistas de auto      int64\n",
       "precio en mercado libre        float64\n",
       "fecha_de_elaboracion            object\n",
       "ventas                         float64\n",
       "dtype: object"
      ]
     },
     "execution_count": 120,
     "metadata": {},
     "output_type": "execute_result"
    }
   ],
   "source": [
    "ventas.dtypes"
   ]
  },
  {
   "cell_type": "code",
   "execution_count": 121,
   "id": "1d1ce2ac",
   "metadata": {},
   "outputs": [],
   "source": [
    "ventas['fecha_de_elaboracion'] = pd.to_datetime(ventas['fecha_de_elaboracion'])\n",
    "ventas[\"hoy\"] = \"2023-12-14\"\n",
    "ventas[\"hoy\"] = pd.to_datetime(ventas[\"hoy\"])\n",
    "ventas['antiguedad'] = (ventas[\"hoy\"] - ventas['fecha_de_elaboracion']).dt.days//365\n",
    "ventas = ventas[ventas['antiguedad'] <= 90]"
   ]
  },
  {
   "cell_type": "code",
   "execution_count": 122,
   "id": "5a0d7bcc",
   "metadata": {},
   "outputs": [],
   "source": [
    "ventas.columns = ventas.columns.str.replace(' ', '_')"
   ]
  },
  {
   "cell_type": "code",
   "execution_count": 123,
   "id": "a80c2c31",
   "metadata": {},
   "outputs": [],
   "source": [
    "features = ['Kilometraje', 'Ranking_en_revistas_de_auto', 'precio_en_mercado_libre', 'C(Pais_de_Origen)', 'antiguedad']"
   ]
  },
  {
   "cell_type": "code",
   "execution_count": 124,
   "id": "ff09bb02",
   "metadata": {},
   "outputs": [],
   "source": [
    "formula = 'ventas ~ ' + ' + '.join(features)"
   ]
  },
  {
   "cell_type": "code",
   "execution_count": 125,
   "id": "069b4dcf",
   "metadata": {},
   "outputs": [
    {
     "data": {
      "text/plain": [
       "'ventas ~ Kilometraje + Ranking_en_revistas_de_auto + precio_en_mercado_libre + C(Pais_de_Origen) + antiguedad'"
      ]
     },
     "execution_count": 125,
     "metadata": {},
     "output_type": "execute_result"
    }
   ],
   "source": [
    "formula"
   ]
  },
  {
   "cell_type": "code",
   "execution_count": 126,
   "id": "a597040c",
   "metadata": {},
   "outputs": [],
   "source": [
    "import statsmodels.formula.api as smf"
   ]
  },
  {
   "cell_type": "code",
   "execution_count": 127,
   "id": "c094649e",
   "metadata": {
    "scrolled": false
   },
   "outputs": [
    {
     "name": "stdout",
     "output_type": "stream",
     "text": [
      "                            OLS Regression Results                            \n",
      "==============================================================================\n",
      "Dep. Variable:                 ventas   R-squared:                       1.000\n",
      "Model:                            OLS   Adj. R-squared:                  1.000\n",
      "Method:                 Least Squares   F-statistic:                     3263.\n",
      "Date:                Thu, 14 Dec 2023   Prob (F-statistic):           2.25e-07\n",
      "Time:                        10:47:49   Log-Likelihood:                -147.82\n",
      "No. Observations:                  15   AIC:                             317.6\n",
      "Df Residuals:                       4   BIC:                             325.4\n",
      "Df Model:                          10                                         \n",
      "Covariance Type:            nonrobust                                         \n",
      "=======================================================================================================\n",
      "                                          coef    std err          t      P>|t|      [0.025      0.975]\n",
      "-------------------------------------------------------------------------------------------------------\n",
      "Intercept                            1.668e+04   2.07e+04      0.804      0.466   -4.09e+04    7.43e+04\n",
      "C(Pais_de_Origen)[T.China]          -2.795e+04   2.07e+04     -1.349      0.249   -8.55e+04    2.96e+04\n",
      "C(Pais_de_Origen)[T.Corea del Sur]  -9336.7493   1.41e+04     -0.662      0.544   -4.85e+04    2.98e+04\n",
      "C(Pais_de_Origen)[T.Estados Unidos]  2725.5758   1.67e+04      0.164      0.878   -4.35e+04     4.9e+04\n",
      "C(Pais_de_Origen)[T.Francia]        -8092.8585      2e+04     -0.405      0.706   -6.36e+04    4.74e+04\n",
      "C(Pais_de_Origen)[T.Italia]         -2429.1865   1.71e+04     -0.142      0.894      -5e+04    4.51e+04\n",
      "C(Pais_de_Origen)[T.Japón]          -5084.7805    1.7e+04     -0.299      0.780   -5.23e+04    4.21e+04\n",
      "Kilometraje                            -0.1612      0.104     -1.555      0.195      -0.449       0.127\n",
      "Ranking_en_revistas_de_auto           -54.1450     35.287     -1.534      0.200    -152.118      43.828\n",
      "precio_en_mercado_libre                19.6351      0.219     89.551      0.000      19.026      20.244\n",
      "antiguedad                           1364.9020   1103.125      1.237      0.284   -1697.863    4427.667\n",
      "==============================================================================\n",
      "Omnibus:                        3.808   Durbin-Watson:                   1.812\n",
      "Prob(Omnibus):                  0.149   Jarque-Bera (JB):                1.743\n",
      "Skew:                           0.798   Prob(JB):                        0.418\n",
      "Kurtosis:                       3.493   Cond. No.                     2.45e+06\n",
      "==============================================================================\n",
      "\n",
      "Notes:\n",
      "[1] Standard Errors assume that the covariance matrix of the errors is correctly specified.\n",
      "[2] The condition number is large, 2.45e+06. This might indicate that there are\n",
      "strong multicollinearity or other numerical problems.\n"
     ]
    },
    {
     "name": "stderr",
     "output_type": "stream",
     "text": [
      "C:\\Users\\tomyw\\anaconda3\\Lib\\site-packages\\scipy\\stats\\_stats_py.py:1806: UserWarning: kurtosistest only valid for n>=20 ... continuing anyway, n=15\n",
      "  warnings.warn(\"kurtosistest only valid for n>=20 ... continuing \"\n"
     ]
    }
   ],
   "source": [
    "model = smf.ols(formula = formula, data = ventas).fit()\n",
    "print(model.summary())"
   ]
  },
  {
   "cell_type": "markdown",
   "id": "17a6cb1d",
   "metadata": {},
   "source": [
    "### Las variables con valor p menor a 0.5 son las que sirven para el modelo"
   ]
  },
  {
   "cell_type": "markdown",
   "id": "6092c754",
   "metadata": {},
   "source": [
    "### Tienen menos de 0.5 las no relacionadas al pais de origen excepto los chinos"
   ]
  },
  {
   "cell_type": "markdown",
   "id": "80be889b",
   "metadata": {},
   "source": [
    "### En caso de ser japones habria una reduccion de 5000"
   ]
  },
  {
   "cell_type": "markdown",
   "id": "1977626c",
   "metadata": {},
   "source": [
    "### Ante un aumento en la edad o antiguedad aumentaria en 1364"
   ]
  },
  {
   "cell_type": "code",
   "execution_count": 128,
   "id": "ed076534",
   "metadata": {},
   "outputs": [],
   "source": [
    "clientes = pd.read_csv('leads_a_clientes.csv')"
   ]
  },
  {
   "cell_type": "code",
   "execution_count": 129,
   "id": "4076842c",
   "metadata": {},
   "outputs": [
    {
     "data": {
      "text/html": [
       "<div>\n",
       "<style scoped>\n",
       "    .dataframe tbody tr th:only-of-type {\n",
       "        vertical-align: middle;\n",
       "    }\n",
       "\n",
       "    .dataframe tbody tr th {\n",
       "        vertical-align: top;\n",
       "    }\n",
       "\n",
       "    .dataframe thead th {\n",
       "        text-align: right;\n",
       "    }\n",
       "</style>\n",
       "<table border=\"1\" class=\"dataframe\">\n",
       "  <thead>\n",
       "    <tr style=\"text-align: right;\">\n",
       "      <th></th>\n",
       "      <th>Unnamed: 0</th>\n",
       "      <th>fecha de nacimiento</th>\n",
       "      <th>clicks_en_web</th>\n",
       "      <th>puntaje</th>\n",
       "      <th>cantidad_mensajes</th>\n",
       "      <th>ingreso_estimado</th>\n",
       "      <th>categoria</th>\n",
       "      <th>cliente</th>\n",
       "    </tr>\n",
       "  </thead>\n",
       "  <tbody>\n",
       "    <tr>\n",
       "      <th>0</th>\n",
       "      <td>0</td>\n",
       "      <td>1955-11-30 12:27:39.148023</td>\n",
       "      <td>50.109121</td>\n",
       "      <td>232.101644</td>\n",
       "      <td>135.281047</td>\n",
       "      <td>91.231418</td>\n",
       "      <td>Categoria D</td>\n",
       "      <td>Sí</td>\n",
       "    </tr>\n",
       "    <tr>\n",
       "      <th>1</th>\n",
       "      <td>1</td>\n",
       "      <td>1998-11-19 12:27:39.148023</td>\n",
       "      <td>2.109121</td>\n",
       "      <td>868.308119</td>\n",
       "      <td>55.687224</td>\n",
       "      <td>740.421698</td>\n",
       "      <td>Categoria D</td>\n",
       "      <td>No</td>\n",
       "    </tr>\n",
       "    <tr>\n",
       "      <th>2</th>\n",
       "      <td>2</td>\n",
       "      <td>1962-11-28 12:27:39.148023</td>\n",
       "      <td>14.109121</td>\n",
       "      <td>158.323178</td>\n",
       "      <td>119.574760</td>\n",
       "      <td>15.947268</td>\n",
       "      <td>Categoria D</td>\n",
       "      <td>Sí</td>\n",
       "    </tr>\n",
       "    <tr>\n",
       "      <th>3</th>\n",
       "      <td>3</td>\n",
       "      <td>1967-11-27 12:27:39.148023</td>\n",
       "      <td>2.109121</td>\n",
       "      <td>1074.171569</td>\n",
       "      <td>144.817864</td>\n",
       "      <td>950.486443</td>\n",
       "      <td>Categoria D</td>\n",
       "      <td>Sí</td>\n",
       "    </tr>\n",
       "    <tr>\n",
       "      <th>4</th>\n",
       "      <td>4</td>\n",
       "      <td>1982-11-23 12:27:39.148023</td>\n",
       "      <td>2.109121</td>\n",
       "      <td>205.078660</td>\n",
       "      <td>37.891444</td>\n",
       "      <td>63.656943</td>\n",
       "      <td>Categoria D</td>\n",
       "      <td>No</td>\n",
       "    </tr>\n",
       "    <tr>\n",
       "      <th>...</th>\n",
       "      <td>...</td>\n",
       "      <td>...</td>\n",
       "      <td>...</td>\n",
       "      <td>...</td>\n",
       "      <td>...</td>\n",
       "      <td>...</td>\n",
       "      <td>...</td>\n",
       "      <td>...</td>\n",
       "    </tr>\n",
       "    <tr>\n",
       "      <th>2995</th>\n",
       "      <td>2995</td>\n",
       "      <td>1962-11-28 12:27:39.148023</td>\n",
       "      <td>14.109121</td>\n",
       "      <td>351.827087</td>\n",
       "      <td>36.691961</td>\n",
       "      <td>213.400237</td>\n",
       "      <td>Categoria B</td>\n",
       "      <td>No</td>\n",
       "    </tr>\n",
       "    <tr>\n",
       "      <th>2996</th>\n",
       "      <td>2996</td>\n",
       "      <td>1962-11-28 12:27:39.148023</td>\n",
       "      <td>21.890879</td>\n",
       "      <td>494.859133</td>\n",
       "      <td>53.525986</td>\n",
       "      <td>359.351304</td>\n",
       "      <td>Categoria B</td>\n",
       "      <td>No</td>\n",
       "    </tr>\n",
       "    <tr>\n",
       "      <th>2997</th>\n",
       "      <td>2997</td>\n",
       "      <td>1980-11-23 12:27:39.148023</td>\n",
       "      <td>50.109121</td>\n",
       "      <td>488.597332</td>\n",
       "      <td>44.621153</td>\n",
       "      <td>352.961711</td>\n",
       "      <td>Categoria A</td>\n",
       "      <td>No</td>\n",
       "    </tr>\n",
       "    <tr>\n",
       "      <th>2998</th>\n",
       "      <td>2998</td>\n",
       "      <td>1982-11-23 12:27:39.148023</td>\n",
       "      <td>26.109121</td>\n",
       "      <td>368.592515</td>\n",
       "      <td>53.934444</td>\n",
       "      <td>230.507817</td>\n",
       "      <td>Categoria A</td>\n",
       "      <td>No</td>\n",
       "    </tr>\n",
       "    <tr>\n",
       "      <th>2999</th>\n",
       "      <td>2999</td>\n",
       "      <td>1989-11-21 12:27:39.148023</td>\n",
       "      <td>26.109121</td>\n",
       "      <td>358.783160</td>\n",
       "      <td>52.865183</td>\n",
       "      <td>220.498271</td>\n",
       "      <td>Categoria A</td>\n",
       "      <td>No</td>\n",
       "    </tr>\n",
       "  </tbody>\n",
       "</table>\n",
       "<p>3000 rows × 8 columns</p>\n",
       "</div>"
      ],
      "text/plain": [
       "      Unnamed: 0         fecha de nacimiento  clicks_en_web      puntaje  \\\n",
       "0              0  1955-11-30 12:27:39.148023      50.109121   232.101644   \n",
       "1              1  1998-11-19 12:27:39.148023       2.109121   868.308119   \n",
       "2              2  1962-11-28 12:27:39.148023      14.109121   158.323178   \n",
       "3              3  1967-11-27 12:27:39.148023       2.109121  1074.171569   \n",
       "4              4  1982-11-23 12:27:39.148023       2.109121   205.078660   \n",
       "...          ...                         ...            ...          ...   \n",
       "2995        2995  1962-11-28 12:27:39.148023      14.109121   351.827087   \n",
       "2996        2996  1962-11-28 12:27:39.148023      21.890879   494.859133   \n",
       "2997        2997  1980-11-23 12:27:39.148023      50.109121   488.597332   \n",
       "2998        2998  1982-11-23 12:27:39.148023      26.109121   368.592515   \n",
       "2999        2999  1989-11-21 12:27:39.148023      26.109121   358.783160   \n",
       "\n",
       "      cantidad_mensajes  ingreso_estimado    categoria cliente  \n",
       "0            135.281047         91.231418  Categoria D      Sí  \n",
       "1             55.687224        740.421698  Categoria D      No  \n",
       "2            119.574760         15.947268  Categoria D      Sí  \n",
       "3            144.817864        950.486443  Categoria D      Sí  \n",
       "4             37.891444         63.656943  Categoria D      No  \n",
       "...                 ...               ...          ...     ...  \n",
       "2995          36.691961        213.400237  Categoria B      No  \n",
       "2996          53.525986        359.351304  Categoria B      No  \n",
       "2997          44.621153        352.961711  Categoria A      No  \n",
       "2998          53.934444        230.507817  Categoria A      No  \n",
       "2999          52.865183        220.498271  Categoria A      No  \n",
       "\n",
       "[3000 rows x 8 columns]"
      ]
     },
     "execution_count": 129,
     "metadata": {},
     "output_type": "execute_result"
    }
   ],
   "source": [
    "clientes"
   ]
  },
  {
   "cell_type": "code",
   "execution_count": 130,
   "id": "649f239f",
   "metadata": {},
   "outputs": [],
   "source": [
    "clientes = clientes.drop(columns = ['Unnamed: 0'])"
   ]
  },
  {
   "cell_type": "code",
   "execution_count": 131,
   "id": "2bad85a2",
   "metadata": {},
   "outputs": [],
   "source": [
    "clientes[\"hoy\"] = \"2023-12-14\""
   ]
  },
  {
   "cell_type": "code",
   "execution_count": 132,
   "id": "3c064042",
   "metadata": {},
   "outputs": [],
   "source": [
    "clientes[\"hoy\"] = pd.to_datetime(clientes[\"hoy\"])"
   ]
  },
  {
   "cell_type": "code",
   "execution_count": 133,
   "id": "3afa9ac9",
   "metadata": {},
   "outputs": [],
   "source": [
    "clientes['fecha de nacimiento'] = pd.to_datetime(clientes['fecha de nacimiento'])"
   ]
  },
  {
   "cell_type": "code",
   "execution_count": 134,
   "id": "387aa08d",
   "metadata": {},
   "outputs": [],
   "source": [
    "clientes['edad'] = (clientes[\"hoy\"] - clientes['fecha de nacimiento']).dt.days//365\n",
    "clientes = clientes[clientes['edad'] <= 100]"
   ]
  },
  {
   "cell_type": "code",
   "execution_count": 135,
   "id": "d4797af4",
   "metadata": {},
   "outputs": [
    {
     "data": {
      "image/png": "[encoded data removed]",
      "text/plain": [
       "<Figure size 800x600 with 1 Axes>"
      ]
     },
     "metadata": {},
     "output_type": "display_data"
    }
   ],
   "source": [
    "plt.figure(figsize=(8, 6))\n",
    "plt.boxplot(clientes['edad'])\n",
    "plt.title('Boxplot de edad')\n",
    "plt.ylabel('edades')\n",
    "plt.show()"
   ]
  },
  {
   "cell_type": "code",
   "execution_count": 136,
   "id": "6765ce5b",
   "metadata": {},
   "outputs": [
    {
     "data": {
      "text/plain": [
       "<Axes: xlabel='categoria', ylabel='ingreso_estimado'>"
      ]
     },
     "execution_count": 136,
     "metadata": {},
     "output_type": "execute_result"
    },
    {
     "data": {
      "image/png": "[encoded data removed]",
      "text/plain": [
       "<Figure size 640x480 with 1 Axes>"
      ]
     },
     "metadata": {},
     "output_type": "display_data"
    }
   ],
   "source": [
    "sns.boxplot(x = clientes['categoria'], y = clientes['ingreso_estimado'])"
   ]
  },
  {
   "cell_type": "code",
   "execution_count": 137,
   "id": "d03f57ef",
   "metadata": {},
   "outputs": [],
   "source": [
    "group1 = clientes[clientes['categoria'] == \"Categoria D\"][\"ingreso_estimado\"]\n",
    "group2 = clientes[clientes['categoria'] != \"Categoria D\"][\"ingreso_estimado\"]"
   ]
  },
  {
   "cell_type": "code",
   "execution_count": 138,
   "id": "62333d00",
   "metadata": {},
   "outputs": [],
   "source": [
    "from scipy.stats import ttest_ind"
   ]
  },
  {
   "cell_type": "code",
   "execution_count": 139,
   "id": "da71b9cb",
   "metadata": {},
   "outputs": [
    {
     "name": "stdout",
     "output_type": "stream",
     "text": [
      "Rechazar la hipótesis nula. Hay una diferencia significativa del ingreso de la categoria D con las demas.\n"
     ]
    }
   ],
   "source": [
    "t_stat, p_value = ttest_ind(group1, group2)\n",
    "if p_value < 0.05:\n",
    "  print(\"Rechazar la hipótesis nula. Hay una diferencia significativa del ingreso de la categoria D con las demas.\")\n",
    "else:\n",
    "  print(\"No rechazar la hipótesis nula.\")"
   ]
  },
  {
   "cell_type": "code",
   "execution_count": 140,
   "id": "a9dfb455",
   "metadata": {},
   "outputs": [],
   "source": [
    "clientes = clientes[clientes['categoria'] != \"Categoria D\"]"
   ]
  },
  {
   "cell_type": "code",
   "execution_count": 141,
   "id": "b95dd49e",
   "metadata": {},
   "outputs": [
    {
     "data": {
      "text/plain": [
       "<Axes: xlabel='cliente', ylabel='cantidad_mensajes'>"
      ]
     },
     "execution_count": 141,
     "metadata": {},
     "output_type": "execute_result"
    },
    {
     "data": {
      "image/png": "[encoded data removed]",
      "text/plain": [
       "<Figure size 640x480 with 1 Axes>"
      ]
     },
     "metadata": {},
     "output_type": "display_data"
    }
   ],
   "source": [
    "sns.boxplot(x = clientes['cliente'], y = clientes['cantidad_mensajes'])"
   ]
  },
  {
   "cell_type": "markdown",
   "id": "8d996fc6",
   "metadata": {},
   "source": [
    "### Podemos decir que mientras mas mensajes envia, osea mas activo es, mayor es la probabilidad de que sea un cliente"
   ]
  },
  {
   "cell_type": "code",
   "execution_count": 142,
   "id": "a8b7a879",
   "metadata": {},
   "outputs": [],
   "source": [
    "from sklearn.model_selection import train_test_split\n",
    "from sklearn.tree import DecisionTreeClassifier"
   ]
  },
  {
   "cell_type": "code",
   "execution_count": 143,
   "id": "5dec5921",
   "metadata": {},
   "outputs": [],
   "source": [
    "clientes['cliente'] = clientes['cliente'].map(lambda x: 0 if x == 'No' else 1)"
   ]
  },
  {
   "cell_type": "code",
   "execution_count": 144,
   "id": "a4f0e424",
   "metadata": {},
   "outputs": [],
   "source": [
    "clientes = pd.get_dummies(clientes, 'categoria')"
   ]
  },
  {
   "cell_type": "code",
   "execution_count": 145,
   "id": "a6d45e16",
   "metadata": {},
   "outputs": [
    {
     "data": {
      "text/plain": [
       "Index(['fecha de nacimiento', 'clicks_en_web', 'puntaje', 'cantidad_mensajes',\n",
       "       'ingreso_estimado', 'cliente', 'hoy', 'edad', 'categoria_Categoria A',\n",
       "       'categoria_Categoria B', 'categoria_Categoria C'],\n",
       "      dtype='object')"
      ]
     },
     "execution_count": 145,
     "metadata": {},
     "output_type": "execute_result"
    }
   ],
   "source": [
    "clientes.columns"
   ]
  },
  {
   "cell_type": "code",
   "execution_count": 146,
   "id": "246f157b",
   "metadata": {},
   "outputs": [],
   "source": [
    "X = clientes[['clicks_en_web', 'puntaje', 'cantidad_mensajes', 'ingreso_estimado', 'categoria_Categoria A','categoria_Categoria B', 'categoria_Categoria C', 'edad']]\n",
    "y = clientes['cliente']"
   ]
  },
  {
   "cell_type": "code",
   "execution_count": 147,
   "id": "3ed303a6",
   "metadata": {},
   "outputs": [
    {
     "data": {
      "text/html": [
       "<style>#sk-container-id-6 {color: black;}#sk-container-id-6 pre{padding: 0;}#sk-container-id-6 div.sk-toggleable {background-color: white;}#sk-container-id-6 label.sk-toggleable__label {cursor: pointer;display: block;width: 100%;margin-bottom: 0;padding: 0.3em;box-sizing: border-box;text-align: center;}#sk-container-id-6 label.sk-toggleable__label-arrow:before {content: \"▸\";float: left;margin-right: 0.25em;color: #696969;}#sk-container-id-6 label.sk-toggleable__label-arrow:hover:before {color: black;}#sk-container-id-6 div.sk-estimator:hover label.sk-toggleable__label-arrow:before {color: black;}#sk-container-id-6 div.sk-toggleable__content {max-height: 0;max-width: 0;overflow: hidden;text-align: left;background-color: #f0f8ff;}#sk-container-id-6 div.sk-toggleable__content pre {margin: 0.2em;color: black;border-radius: 0.25em;background-color: #f0f8ff;}#sk-container-id-6 input.sk-toggleable__control:checked~div.sk-toggleable__content {max-height: 200px;max-width: 100%;overflow: auto;}#sk-container-id-6 input.sk-toggleable__control:checked~label.sk-toggleable__label-arrow:before {content: \"▾\";}#sk-container-id-6 div.sk-estimator input.sk-toggleable__control:checked~label.sk-toggleable__label {background-color: #d4ebff;}#sk-container-id-6 div.sk-label input.sk-toggleable__control:checked~label.sk-toggleable__label {background-color: #d4ebff;}#sk-container-id-6 input.sk-hidden--visually {border: 0;clip: rect(1px 1px 1px 1px);clip: rect(1px, 1px, 1px, 1px);height: 1px;margin: -1px;overflow: hidden;padding: 0;position: absolute;width: 1px;}#sk-container-id-6 div.sk-estimator {font-family: monospace;background-color: #f0f8ff;border: 1px dotted black;border-radius: 0.25em;box-sizing: border-box;margin-bottom: 0.5em;}#sk-container-id-6 div.sk-estimator:hover {background-color: #d4ebff;}#sk-container-id-6 div.sk-parallel-item::after {content: \"\";width: 100%;border-bottom: 1px solid gray;flex-grow: 1;}#sk-container-id-6 div.sk-label:hover label.sk-toggleable__label {background-color: #d4ebff;}#sk-container-id-6 div.sk-serial::before {content: \"\";position: absolute;border-left: 1px solid gray;box-sizing: border-box;top: 0;bottom: 0;left: 50%;z-index: 0;}#sk-container-id-6 div.sk-serial {display: flex;flex-direction: column;align-items: center;background-color: white;padding-right: 0.2em;padding-left: 0.2em;position: relative;}#sk-container-id-6 div.sk-item {position: relative;z-index: 1;}#sk-container-id-6 div.sk-parallel {display: flex;align-items: stretch;justify-content: center;background-color: white;position: relative;}#sk-container-id-6 div.sk-item::before, #sk-container-id-6 div.sk-parallel-item::before {content: \"\";position: absolute;border-left: 1px solid gray;box-sizing: border-box;top: 0;bottom: 0;left: 50%;z-index: -1;}#sk-container-id-6 div.sk-parallel-item {display: flex;flex-direction: column;z-index: 1;position: relative;background-color: white;}#sk-container-id-6 div.sk-parallel-item:first-child::after {align-self: flex-end;width: 50%;}#sk-container-id-6 div.sk-parallel-item:last-child::after {align-self: flex-start;width: 50%;}#sk-container-id-6 div.sk-parallel-item:only-child::after {width: 0;}#sk-container-id-6 div.sk-dashed-wrapped {border: 1px dashed gray;margin: 0 0.4em 0.5em 0.4em;box-sizing: border-box;padding-bottom: 0.4em;background-color: white;}#sk-container-id-6 div.sk-label label {font-family: monospace;font-weight: bold;display: inline-block;line-height: 1.2em;}#sk-container-id-6 div.sk-label-container {text-align: center;}#sk-container-id-6 div.sk-container {/* jupyter's `normalize.less` sets `[hidden] { display: none; }` but bootstrap.min.css set `[hidden] { display: none !important; }` so we also need the `!important` here to be able to override the default hidden behavior on the sphinx rendered scikit-learn.org. See: https://github.com/scikit-learn/scikit-learn/issues/21755 */display: inline-block !important;position: relative;}#sk-container-id-6 div.sk-text-repr-fallback {display: none;}</style><div id=\"sk-container-id-6\" class=\"sk-top-container\"><div class=\"sk-text-repr-fallback\"><pre>DecisionTreeClassifier(max_depth=3)</pre><b>In a Jupyter environment, please rerun this cell to show the HTML representation or trust the notebook. <br />On GitHub, the HTML representation is unable to render, please try loading this page with nbviewer.org.</b></div><div class=\"sk-container\" hidden><div class=\"sk-item\"><div class=\"sk-estimator sk-toggleable\"><input class=\"sk-toggleable__control sk-hidden--visually\" id=\"sk-estimator-id-6\" type=\"checkbox\" checked><label for=\"sk-estimator-id-6\" class=\"sk-toggleable__label sk-toggleable__label-arrow\">DecisionTreeClassifier</label><div class=\"sk-toggleable__content\"><pre>DecisionTreeClassifier(max_depth=3)</pre></div></div></div></div></div>"
      ],
      "text/plain": [
       "DecisionTreeClassifier(max_depth=3)"
      ]
     },
     "execution_count": 147,
     "metadata": {},
     "output_type": "execute_result"
    }
   ],
   "source": [
    "X_train, X_test, y_train, y_test = train_test_split(X, y, test_size=0.2, random_state=42)\n",
    "tree = DecisionTreeClassifier(max_depth=3)\n",
    "tree.fit(X_train, y_train)"
   ]
  },
  {
   "cell_type": "code",
   "execution_count": 148,
   "id": "e0060689",
   "metadata": {},
   "outputs": [],
   "source": [
    "y_pred = tree.predict(X_test)"
   ]
  },
  {
   "cell_type": "code",
   "execution_count": 149,
   "id": "105c8c2a",
   "metadata": {},
   "outputs": [],
   "source": [
    "from sklearn.metrics import classification_report, confusion_matrix"
   ]
  },
  {
   "cell_type": "code",
   "execution_count": 150,
   "id": "6e9644f8",
   "metadata": {},
   "outputs": [
    {
     "data": {
      "image/png": "[encoded data removed]",
      "text/plain": [
       "<Figure size 1000x800 with 2 Axes>"
      ]
     },
     "metadata": {},
     "output_type": "display_data"
    }
   ],
   "source": [
    "conf_matrix = confusion_matrix(y_test, y_pred)\n",
    "\n",
    "f, ax = plt.subplots(figsize=(10, 8))\n",
    "sns.heatmap(conf_matrix, annot=True, linewidth=0.5, fmt=\".0f\", cmap='viridis', ax=ax)\n",
    "plt.xlabel(\"Predicho\")\n",
    "plt.ylabel(\"Real\")\n",
    "plt.title('Matriz de Confusión')\n",
    "plt.show()"
   ]
  },
  {
   "cell_type": "code",
   "execution_count": 151,
   "id": "c826ef0f",
   "metadata": {},
   "outputs": [],
   "source": [
    "from sklearn.tree import export_graphviz\n",
    "import graphviz"
   ]
  },
  {
   "cell_type": "code",
   "execution_count": 152,
   "id": "2b84932e",
   "metadata": {},
   "outputs": [
    {
     "data": {
      "image/svg+xml": [
       "<?xml version=\"1.0\" encoding=\"UTF-8\" standalone=\"no\"?>\n",
       "<!DOCTYPE svg PUBLIC \"-//W3C//DTD SVG 1.1//EN\"\n",
       " \"http://www.w3.org/Graphics/SVG/1.1/DTD/svg11.dtd\">\n",
       "<!-- Generated by graphviz version 9.0.0 (20230911.1827)\n",
       " -->\n",
       "<!-- Title: Tree Pages: 1 -->\n",
       "<svg width=\"1070pt\" height=\"462pt\"\n",
       " viewBox=\"0.00 0.00 1070.25 461.50\" xmlns=\"http://www.w3.org/2000/svg\" xmlns:xlink=\"http://www.w3.org/1999/xlink\">\n",
       "<g id=\"graph0\" class=\"graph\" transform=\"scale(1 1) rotate(0) translate(4 457.5)\">\n",
       "<title>Tree</title>\n",
       "<polygon fill=\"white\" stroke=\"none\" points=\"-4,4 -4,-457.5 1066.25,-457.5 1066.25,4 -4,4\"/>\n",
       "<!-- 0 -->\n",
       "<g id=\"node1\" class=\"node\">\n",
       "<title>0</title>\n",
       "<path fill=\"#fef8f4\" stroke=\"black\" d=\"M665.38,-453.5C665.38,-453.5 490.38,-453.5 490.38,-453.5 484.38,-453.5 478.38,-447.5 478.38,-441.5 478.38,-441.5 478.38,-375 478.38,-375 478.38,-369 484.38,-363 490.38,-363 490.38,-363 665.38,-363 665.38,-363 671.38,-363 677.38,-369 677.38,-375 677.38,-375 677.38,-441.5 677.38,-441.5 677.38,-447.5 671.38,-453.5 665.38,-453.5\"/>\n",
       "<text text-anchor=\"start\" x=\"486.38\" y=\"-436.2\" font-family=\"Helvetica,sans-Serif\" font-size=\"14.00\">cantidad_mensajes ≤ 68.289</text>\n",
       "<text text-anchor=\"start\" x=\"549\" y=\"-419.7\" font-family=\"Helvetica,sans-Serif\" font-size=\"14.00\">gini = 0.5</text>\n",
       "<text text-anchor=\"start\" x=\"526.5\" y=\"-403.2\" font-family=\"Helvetica,sans-Serif\" font-size=\"14.00\">samples = 2241</text>\n",
       "<text text-anchor=\"start\" x=\"513\" y=\"-386.7\" font-family=\"Helvetica,sans-Serif\" font-size=\"14.00\">value = [1153, 1088]</text>\n",
       "<text text-anchor=\"start\" x=\"522\" y=\"-370.2\" font-family=\"Helvetica,sans-Serif\" font-size=\"14.00\">class = No cliente</text>\n",
       "</g>\n",
       "<!-- 1 -->\n",
       "<g id=\"node2\" class=\"node\">\n",
       "<title>1</title>\n",
       "<path fill=\"#e68843\" stroke=\"black\" d=\"M533.25,-327C533.25,-327 366.5,-327 366.5,-327 360.5,-327 354.5,-321 354.5,-315 354.5,-315 354.5,-248.5 354.5,-248.5 354.5,-242.5 360.5,-236.5 366.5,-236.5 366.5,-236.5 533.25,-236.5 533.25,-236.5 539.25,-236.5 545.25,-242.5 545.25,-248.5 545.25,-248.5 545.25,-315 545.25,-315 545.25,-321 539.25,-327 533.25,-327\"/>\n",
       "<text text-anchor=\"start\" x=\"362.5\" y=\"-309.7\" font-family=\"Helvetica,sans-Serif\" font-size=\"14.00\">cantidad_mensajes ≤ 62.84</text>\n",
       "<text text-anchor=\"start\" x=\"412.75\" y=\"-293.2\" font-family=\"Helvetica,sans-Serif\" font-size=\"14.00\">gini = 0.095</text>\n",
       "<text text-anchor=\"start\" x=\"398.5\" y=\"-276.7\" font-family=\"Helvetica,sans-Serif\" font-size=\"14.00\">samples = 1174</text>\n",
       "<text text-anchor=\"start\" x=\"393.25\" y=\"-260.2\" font-family=\"Helvetica,sans-Serif\" font-size=\"14.00\">value = [1115, 59]</text>\n",
       "<text text-anchor=\"start\" x=\"394\" y=\"-243.7\" font-family=\"Helvetica,sans-Serif\" font-size=\"14.00\">class = No cliente</text>\n",
       "</g>\n",
       "<!-- 0&#45;&gt;1 -->\n",
       "<g id=\"edge1\" class=\"edge\">\n",
       "<title>0&#45;&gt;1</title>\n",
       "<path fill=\"none\" stroke=\"black\" d=\"M532.03,-362.65C522.93,-353.8 513.29,-344.43 503.95,-335.35\"/>\n",
       "<polygon fill=\"black\" stroke=\"black\" points=\"506.53,-332.97 496.92,-328.51 501.65,-337.99 506.53,-332.97\"/>\n",
       "<text text-anchor=\"middle\" x=\"496.18\" y=\"-347.4\" font-family=\"Helvetica,sans-Serif\" font-size=\"14.00\">True</text>\n",
       "</g>\n",
       "<!-- 8 -->\n",
       "<g id=\"node9\" class=\"node\">\n",
       "<title>8</title>\n",
       "<path fill=\"#40a1e6\" stroke=\"black\" d=\"M754.25,-327C754.25,-327 587.5,-327 587.5,-327 581.5,-327 575.5,-321 575.5,-315 575.5,-315 575.5,-248.5 575.5,-248.5 575.5,-242.5 581.5,-236.5 587.5,-236.5 587.5,-236.5 754.25,-236.5 754.25,-236.5 760.25,-236.5 766.25,-242.5 766.25,-248.5 766.25,-248.5 766.25,-315 766.25,-315 766.25,-321 760.25,-327 754.25,-327\"/>\n",
       "<text text-anchor=\"start\" x=\"583.5\" y=\"-309.7\" font-family=\"Helvetica,sans-Serif\" font-size=\"14.00\">cantidad_mensajes ≤ 76.37</text>\n",
       "<text text-anchor=\"start\" x=\"633.75\" y=\"-293.2\" font-family=\"Helvetica,sans-Serif\" font-size=\"14.00\">gini = 0.069</text>\n",
       "<text text-anchor=\"start\" x=\"619.5\" y=\"-276.7\" font-family=\"Helvetica,sans-Serif\" font-size=\"14.00\">samples = 1067</text>\n",
       "<text text-anchor=\"start\" x=\"614.25\" y=\"-260.2\" font-family=\"Helvetica,sans-Serif\" font-size=\"14.00\">value = [38, 1029]</text>\n",
       "<text text-anchor=\"start\" x=\"624.38\" y=\"-243.7\" font-family=\"Helvetica,sans-Serif\" font-size=\"14.00\">class = Cliente</text>\n",
       "</g>\n",
       "<!-- 0&#45;&gt;8 -->\n",
       "<g id=\"edge8\" class=\"edge\">\n",
       "<title>0&#45;&gt;8</title>\n",
       "<path fill=\"none\" stroke=\"black\" d=\"M611.19,-362.65C617.53,-354.16 624.23,-345.19 630.76,-336.45\"/>\n",
       "<polygon fill=\"black\" stroke=\"black\" points=\"633.4,-338.77 636.58,-328.67 627.79,-334.58 633.4,-338.77\"/>\n",
       "<text text-anchor=\"middle\" x=\"641.07\" y=\"-347.14\" font-family=\"Helvetica,sans-Serif\" font-size=\"14.00\">False</text>\n",
       "</g>\n",
       "<!-- 2 -->\n",
       "<g id=\"node3\" class=\"node\">\n",
       "<title>2</title>\n",
       "<path fill=\"#e6853f\" stroke=\"black\" d=\"M297.38,-200.5C297.38,-200.5 122.38,-200.5 122.38,-200.5 116.38,-200.5 110.38,-194.5 110.38,-188.5 110.38,-188.5 110.38,-122 110.38,-122 110.38,-116 116.38,-110 122.38,-110 122.38,-110 297.38,-110 297.38,-110 303.38,-110 309.38,-116 309.38,-122 309.38,-122 309.38,-188.5 309.38,-188.5 309.38,-194.5 303.38,-200.5 297.38,-200.5\"/>\n",
       "<text text-anchor=\"start\" x=\"118.38\" y=\"-183.2\" font-family=\"Helvetica,sans-Serif\" font-size=\"14.00\">cantidad_mensajes ≤ 54.269</text>\n",
       "<text text-anchor=\"start\" x=\"172.75\" y=\"-166.7\" font-family=\"Helvetica,sans-Serif\" font-size=\"14.00\">gini = 0.053</text>\n",
       "<text text-anchor=\"start\" x=\"158.5\" y=\"-150.2\" font-family=\"Helvetica,sans-Serif\" font-size=\"14.00\">samples = 1060</text>\n",
       "<text text-anchor=\"start\" x=\"153.25\" y=\"-133.7\" font-family=\"Helvetica,sans-Serif\" font-size=\"14.00\">value = [1031, 29]</text>\n",
       "<text text-anchor=\"start\" x=\"154\" y=\"-117.2\" font-family=\"Helvetica,sans-Serif\" font-size=\"14.00\">class = No cliente</text>\n",
       "</g>\n",
       "<!-- 1&#45;&gt;2 -->\n",
       "<g id=\"edge2\" class=\"edge\">\n",
       "<title>1&#45;&gt;2</title>\n",
       "<path fill=\"none\" stroke=\"black\" d=\"M363.91,-236.15C345.21,-226.45 325.31,-216.13 306.24,-206.24\"/>\n",
       "<polygon fill=\"black\" stroke=\"black\" points=\"307.88,-203.15 297.39,-201.65 304.66,-209.36 307.88,-203.15\"/>\n",
       "</g>\n",
       "<!-- 5 -->\n",
       "<g id=\"node6\" class=\"node\">\n",
       "<title>5</title>\n",
       "<path fill=\"#eeae80\" stroke=\"black\" d=\"M537,-200.5C537,-200.5 362.75,-200.5 362.75,-200.5 356.75,-200.5 350.75,-194.5 350.75,-188.5 350.75,-188.5 350.75,-122 350.75,-122 350.75,-116 356.75,-110 362.75,-110 362.75,-110 537,-110 537,-110 543,-110 549,-116 549,-122 549,-122 549,-188.5 549,-188.5 549,-194.5 543,-200.5 537,-200.5\"/>\n",
       "<text text-anchor=\"start\" x=\"358.75\" y=\"-183.2\" font-family=\"Helvetica,sans-Serif\" font-size=\"14.00\">ingreso_estimado ≤ 417.532</text>\n",
       "<text text-anchor=\"start\" x=\"412.75\" y=\"-166.7\" font-family=\"Helvetica,sans-Serif\" font-size=\"14.00\">gini = 0.388</text>\n",
       "<text text-anchor=\"start\" x=\"402.62\" y=\"-150.2\" font-family=\"Helvetica,sans-Serif\" font-size=\"14.00\">samples = 114</text>\n",
       "<text text-anchor=\"start\" x=\"401.5\" y=\"-133.7\" font-family=\"Helvetica,sans-Serif\" font-size=\"14.00\">value = [84, 30]</text>\n",
       "<text text-anchor=\"start\" x=\"394\" y=\"-117.2\" font-family=\"Helvetica,sans-Serif\" font-size=\"14.00\">class = No cliente</text>\n",
       "</g>\n",
       "<!-- 1&#45;&gt;5 -->\n",
       "<g id=\"edge5\" class=\"edge\">\n",
       "<title>1&#45;&gt;5</title>\n",
       "<path fill=\"none\" stroke=\"black\" d=\"M449.88,-236.15C449.88,-228.47 449.88,-220.39 449.88,-212.44\"/>\n",
       "<polygon fill=\"black\" stroke=\"black\" points=\"453.38,-212.47 449.88,-202.47 446.38,-212.47 453.38,-212.47\"/>\n",
       "</g>\n",
       "<!-- 3 -->\n",
       "<g id=\"node4\" class=\"node\">\n",
       "<title>3</title>\n",
       "<path fill=\"#e5823b\" stroke=\"black\" d=\"M115.75,-74C115.75,-74 12,-74 12,-74 6,-74 0,-68 0,-62 0,-62 0,-12 0,-12 0,-6 6,0 12,0 12,0 115.75,0 115.75,0 121.75,0 127.75,-6 127.75,-12 127.75,-12 127.75,-62 127.75,-62 127.75,-68 121.75,-74 115.75,-74\"/>\n",
       "<text text-anchor=\"start\" x=\"26.75\" y=\"-56.7\" font-family=\"Helvetica,sans-Serif\" font-size=\"14.00\">gini = 0.018</text>\n",
       "<text text-anchor=\"start\" x=\"16.62\" y=\"-40.2\" font-family=\"Helvetica,sans-Serif\" font-size=\"14.00\">samples = 790</text>\n",
       "<text text-anchor=\"start\" x=\"15.5\" y=\"-23.7\" font-family=\"Helvetica,sans-Serif\" font-size=\"14.00\">value = [783, 7]</text>\n",
       "<text text-anchor=\"start\" x=\"8\" y=\"-7.2\" font-family=\"Helvetica,sans-Serif\" font-size=\"14.00\">class = No cliente</text>\n",
       "</g>\n",
       "<!-- 2&#45;&gt;3 -->\n",
       "<g id=\"edge3\" class=\"edge\">\n",
       "<title>2&#45;&gt;3</title>\n",
       "<path fill=\"none\" stroke=\"black\" d=\"M153.85,-109.64C142.18,-100.35 129.91,-90.58 118.3,-81.34\"/>\n",
       "<polygon fill=\"black\" stroke=\"black\" points=\"120.77,-78.83 110.77,-75.34 116.41,-84.3 120.77,-78.83\"/>\n",
       "</g>\n",
       "<!-- 4 -->\n",
       "<g id=\"node5\" class=\"node\">\n",
       "<title>4</title>\n",
       "<path fill=\"#e78c4b\" stroke=\"black\" d=\"M261.75,-74C261.75,-74 158,-74 158,-74 152,-74 146,-68 146,-62 146,-62 146,-12 146,-12 146,-6 152,0 158,0 158,0 261.75,0 261.75,0 267.75,0 273.75,-6 273.75,-12 273.75,-12 273.75,-62 273.75,-62 273.75,-68 267.75,-74 261.75,-74\"/>\n",
       "<text text-anchor=\"start\" x=\"176.88\" y=\"-56.7\" font-family=\"Helvetica,sans-Serif\" font-size=\"14.00\">gini = 0.15</text>\n",
       "<text text-anchor=\"start\" x=\"162.62\" y=\"-40.2\" font-family=\"Helvetica,sans-Serif\" font-size=\"14.00\">samples = 270</text>\n",
       "<text text-anchor=\"start\" x=\"157.38\" y=\"-23.7\" font-family=\"Helvetica,sans-Serif\" font-size=\"14.00\">value = [248, 22]</text>\n",
       "<text text-anchor=\"start\" x=\"154\" y=\"-7.2\" font-family=\"Helvetica,sans-Serif\" font-size=\"14.00\">class = No cliente</text>\n",
       "</g>\n",
       "<!-- 2&#45;&gt;4 -->\n",
       "<g id=\"edge4\" class=\"edge\">\n",
       "<title>2&#45;&gt;4</title>\n",
       "<path fill=\"none\" stroke=\"black\" d=\"M209.88,-109.64C209.88,-101.81 209.88,-93.63 209.88,-85.72\"/>\n",
       "<polygon fill=\"black\" stroke=\"black\" points=\"213.38,-85.91 209.88,-75.91 206.38,-85.91 213.38,-85.91\"/>\n",
       "</g>\n",
       "<!-- 6 -->\n",
       "<g id=\"node7\" class=\"node\">\n",
       "<title>6</title>\n",
       "<path fill=\"#eeab7b\" stroke=\"black\" d=\"M407.75,-74C407.75,-74 304,-74 304,-74 298,-74 292,-68 292,-62 292,-62 292,-12 292,-12 292,-6 298,0 304,0 304,0 407.75,0 407.75,0 413.75,0 419.75,-6 419.75,-12 419.75,-12 419.75,-62 419.75,-62 419.75,-68 413.75,-74 407.75,-74\"/>\n",
       "<text text-anchor=\"start\" x=\"318.75\" y=\"-56.7\" font-family=\"Helvetica,sans-Serif\" font-size=\"14.00\">gini = 0.375</text>\n",
       "<text text-anchor=\"start\" x=\"308.62\" y=\"-40.2\" font-family=\"Helvetica,sans-Serif\" font-size=\"14.00\">samples = 112</text>\n",
       "<text text-anchor=\"start\" x=\"307.5\" y=\"-23.7\" font-family=\"Helvetica,sans-Serif\" font-size=\"14.00\">value = [84, 28]</text>\n",
       "<text text-anchor=\"start\" x=\"300\" y=\"-7.2\" font-family=\"Helvetica,sans-Serif\" font-size=\"14.00\">class = No cliente</text>\n",
       "</g>\n",
       "<!-- 5&#45;&gt;6 -->\n",
       "<g id=\"edge6\" class=\"edge\">\n",
       "<title>5&#45;&gt;6</title>\n",
       "<path fill=\"none\" stroke=\"black\" d=\"M413.8,-109.64C406.81,-100.99 399.47,-91.92 392.46,-83.25\"/>\n",
       "<polygon fill=\"black\" stroke=\"black\" points=\"395.26,-81.15 386.25,-75.57 389.82,-85.55 395.26,-81.15\"/>\n",
       "</g>\n",
       "<!-- 7 -->\n",
       "<g id=\"node8\" class=\"node\">\n",
       "<title>7</title>\n",
       "<path fill=\"#399de5\" stroke=\"black\" d=\"M534.38,-74C534.38,-74 449.38,-74 449.38,-74 443.38,-74 437.38,-68 437.38,-62 437.38,-62 437.38,-12 437.38,-12 437.38,-6 443.38,0 449.38,0 449.38,0 534.38,0 534.38,0 540.38,0 546.38,-6 546.38,-12 546.38,-12 546.38,-62 546.38,-62 546.38,-68 540.38,-74 534.38,-74\"/>\n",
       "<text text-anchor=\"start\" x=\"463\" y=\"-56.7\" font-family=\"Helvetica,sans-Serif\" font-size=\"14.00\">gini = 0.0</text>\n",
       "<text text-anchor=\"start\" x=\"452.88\" y=\"-40.2\" font-family=\"Helvetica,sans-Serif\" font-size=\"14.00\">samples = 2</text>\n",
       "<text text-anchor=\"start\" x=\"451.75\" y=\"-23.7\" font-family=\"Helvetica,sans-Serif\" font-size=\"14.00\">value = [0, 2]</text>\n",
       "<text text-anchor=\"start\" x=\"445.38\" y=\"-7.2\" font-family=\"Helvetica,sans-Serif\" font-size=\"14.00\">class = Cliente</text>\n",
       "</g>\n",
       "<!-- 5&#45;&gt;7 -->\n",
       "<g id=\"edge7\" class=\"edge\">\n",
       "<title>5&#45;&gt;7</title>\n",
       "<path fill=\"none\" stroke=\"black\" d=\"M465.99,-109.64C468.89,-101.63 471.91,-93.25 474.83,-85.17\"/>\n",
       "<polygon fill=\"black\" stroke=\"black\" points=\"478.11,-86.41 478.21,-75.82 471.52,-84.03 478.11,-86.41\"/>\n",
       "</g>\n",
       "<!-- 9 -->\n",
       "<g id=\"node10\" class=\"node\">\n",
       "<title>9</title>\n",
       "<path fill=\"#9dcff2\" stroke=\"black\" d=\"M735.5,-200.5C735.5,-200.5 606.25,-200.5 606.25,-200.5 600.25,-200.5 594.25,-194.5 594.25,-188.5 594.25,-188.5 594.25,-122 594.25,-122 594.25,-116 600.25,-110 606.25,-110 606.25,-110 735.5,-110 735.5,-110 741.5,-110 747.5,-116 747.5,-122 747.5,-122 747.5,-188.5 747.5,-188.5 747.5,-194.5 741.5,-200.5 735.5,-200.5\"/>\n",
       "<text text-anchor=\"start\" x=\"602.25\" y=\"-183.2\" font-family=\"Helvetica,sans-Serif\" font-size=\"14.00\">clicks_en_web ≤ 36.0</text>\n",
       "<text text-anchor=\"start\" x=\"633.75\" y=\"-166.7\" font-family=\"Helvetica,sans-Serif\" font-size=\"14.00\">gini = 0.447</text>\n",
       "<text text-anchor=\"start\" x=\"623.62\" y=\"-150.2\" font-family=\"Helvetica,sans-Serif\" font-size=\"14.00\">samples = 104</text>\n",
       "<text text-anchor=\"start\" x=\"622.5\" y=\"-133.7\" font-family=\"Helvetica,sans-Serif\" font-size=\"14.00\">value = [35, 69]</text>\n",
       "<text text-anchor=\"start\" x=\"624.38\" y=\"-117.2\" font-family=\"Helvetica,sans-Serif\" font-size=\"14.00\">class = Cliente</text>\n",
       "</g>\n",
       "<!-- 8&#45;&gt;9 -->\n",
       "<g id=\"edge9\" class=\"edge\">\n",
       "<title>8&#45;&gt;9</title>\n",
       "<path fill=\"none\" stroke=\"black\" d=\"M670.88,-236.15C670.88,-228.47 670.88,-220.39 670.88,-212.44\"/>\n",
       "<polygon fill=\"black\" stroke=\"black\" points=\"674.38,-212.47 670.88,-202.47 667.38,-212.47 674.38,-212.47\"/>\n",
       "</g>\n",
       "<!-- 12 -->\n",
       "<g id=\"node13\" class=\"node\">\n",
       "<title>12</title>\n",
       "<path fill=\"#3a9de5\" stroke=\"black\" d=\"M964.38,-200.5C964.38,-200.5 789.38,-200.5 789.38,-200.5 783.38,-200.5 777.38,-194.5 777.38,-188.5 777.38,-188.5 777.38,-122 777.38,-122 777.38,-116 783.38,-110 789.38,-110 789.38,-110 964.38,-110 964.38,-110 970.38,-110 976.38,-116 976.38,-122 976.38,-122 976.38,-188.5 976.38,-188.5 976.38,-194.5 970.38,-200.5 964.38,-200.5\"/>\n",
       "<text text-anchor=\"start\" x=\"785.38\" y=\"-183.2\" font-family=\"Helvetica,sans-Serif\" font-size=\"14.00\">cantidad_mensajes ≤ 79.256</text>\n",
       "<text text-anchor=\"start\" x=\"839.75\" y=\"-166.7\" font-family=\"Helvetica,sans-Serif\" font-size=\"14.00\">gini = 0.006</text>\n",
       "<text text-anchor=\"start\" x=\"829.62\" y=\"-150.2\" font-family=\"Helvetica,sans-Serif\" font-size=\"14.00\">samples = 963</text>\n",
       "<text text-anchor=\"start\" x=\"828.5\" y=\"-133.7\" font-family=\"Helvetica,sans-Serif\" font-size=\"14.00\">value = [3, 960]</text>\n",
       "<text text-anchor=\"start\" x=\"830.38\" y=\"-117.2\" font-family=\"Helvetica,sans-Serif\" font-size=\"14.00\">class = Cliente</text>\n",
       "</g>\n",
       "<!-- 8&#45;&gt;12 -->\n",
       "<g id=\"edge12\" class=\"edge\">\n",
       "<title>8&#45;&gt;12</title>\n",
       "<path fill=\"none\" stroke=\"black\" d=\"M744.66,-236.15C760.49,-226.59 777.32,-216.42 793.48,-206.65\"/>\n",
       "<polygon fill=\"black\" stroke=\"black\" points=\"794.87,-209.9 801.61,-201.74 791.24,-203.91 794.87,-209.9\"/>\n",
       "</g>\n",
       "<!-- 10 -->\n",
       "<g id=\"node11\" class=\"node\">\n",
       "<title>10</title>\n",
       "<path fill=\"#c0e0f7\" stroke=\"black\" d=\"M665.25,-74C665.25,-74 576.5,-74 576.5,-74 570.5,-74 564.5,-68 564.5,-62 564.5,-62 564.5,-12 564.5,-12 564.5,-6 570.5,0 576.5,0 576.5,0 665.25,0 665.25,0 671.25,0 677.25,-6 677.25,-12 677.25,-12 677.25,-62 677.25,-62 677.25,-68 671.25,-74 665.25,-74\"/>\n",
       "<text text-anchor=\"start\" x=\"583.75\" y=\"-56.7\" font-family=\"Helvetica,sans-Serif\" font-size=\"14.00\">gini = 0.482</text>\n",
       "<text text-anchor=\"start\" x=\"577.75\" y=\"-40.2\" font-family=\"Helvetica,sans-Serif\" font-size=\"14.00\">samples = 79</text>\n",
       "<text text-anchor=\"start\" x=\"572.5\" y=\"-23.7\" font-family=\"Helvetica,sans-Serif\" font-size=\"14.00\">value = [32, 47]</text>\n",
       "<text text-anchor=\"start\" x=\"574.38\" y=\"-7.2\" font-family=\"Helvetica,sans-Serif\" font-size=\"14.00\">class = Cliente</text>\n",
       "</g>\n",
       "<!-- 9&#45;&gt;10 -->\n",
       "<g id=\"edge10\" class=\"edge\">\n",
       "<title>9&#45;&gt;10</title>\n",
       "<path fill=\"none\" stroke=\"black\" d=\"M651.69,-109.64C648.2,-101.53 644.56,-93.06 641.04,-84.89\"/>\n",
       "<polygon fill=\"black\" stroke=\"black\" points=\"644.29,-83.59 637.13,-75.78 637.86,-86.35 644.29,-83.59\"/>\n",
       "</g>\n",
       "<!-- 11 -->\n",
       "<g id=\"node12\" class=\"node\">\n",
       "<title>11</title>\n",
       "<path fill=\"#54aae9\" stroke=\"black\" d=\"M792.38,-74C792.38,-74 707.38,-74 707.38,-74 701.38,-74 695.38,-68 695.38,-62 695.38,-62 695.38,-12 695.38,-12 695.38,-6 701.38,0 707.38,0 707.38,0 792.38,0 792.38,0 798.38,0 804.38,-6 804.38,-12 804.38,-12 804.38,-62 804.38,-62 804.38,-68 798.38,-74 792.38,-74\"/>\n",
       "<text text-anchor=\"start\" x=\"712.75\" y=\"-56.7\" font-family=\"Helvetica,sans-Serif\" font-size=\"14.00\">gini = 0.211</text>\n",
       "<text text-anchor=\"start\" x=\"706.75\" y=\"-40.2\" font-family=\"Helvetica,sans-Serif\" font-size=\"14.00\">samples = 25</text>\n",
       "<text text-anchor=\"start\" x=\"705.62\" y=\"-23.7\" font-family=\"Helvetica,sans-Serif\" font-size=\"14.00\">value = [3, 22]</text>\n",
       "<text text-anchor=\"start\" x=\"703.38\" y=\"-7.2\" font-family=\"Helvetica,sans-Serif\" font-size=\"14.00\">class = Cliente</text>\n",
       "</g>\n",
       "<!-- 9&#45;&gt;11 -->\n",
       "<g id=\"edge11\" class=\"edge\">\n",
       "<title>9&#45;&gt;11</title>\n",
       "<path fill=\"none\" stroke=\"black\" d=\"M701.19,-109.64C706.95,-101.17 712.98,-92.3 718.75,-83.8\"/>\n",
       "<polygon fill=\"black\" stroke=\"black\" points=\"721.57,-85.88 724.29,-75.65 715.78,-81.95 721.57,-85.88\"/>\n",
       "</g>\n",
       "<!-- 13 -->\n",
       "<g id=\"node14\" class=\"node\">\n",
       "<title>13</title>\n",
       "<path fill=\"#54aae9\" stroke=\"black\" d=\"M919.38,-74C919.38,-74 834.38,-74 834.38,-74 828.38,-74 822.38,-68 822.38,-62 822.38,-62 822.38,-12 822.38,-12 822.38,-6 828.38,0 834.38,0 834.38,0 919.38,0 919.38,0 925.38,0 931.38,-6 931.38,-12 931.38,-12 931.38,-62 931.38,-62 931.38,-68 925.38,-74 919.38,-74\"/>\n",
       "<text text-anchor=\"start\" x=\"839.75\" y=\"-56.7\" font-family=\"Helvetica,sans-Serif\" font-size=\"14.00\">gini = 0.211</text>\n",
       "<text text-anchor=\"start\" x=\"833.75\" y=\"-40.2\" font-family=\"Helvetica,sans-Serif\" font-size=\"14.00\">samples = 25</text>\n",
       "<text text-anchor=\"start\" x=\"832.62\" y=\"-23.7\" font-family=\"Helvetica,sans-Serif\" font-size=\"14.00\">value = [3, 22]</text>\n",
       "<text text-anchor=\"start\" x=\"830.38\" y=\"-7.2\" font-family=\"Helvetica,sans-Serif\" font-size=\"14.00\">class = Cliente</text>\n",
       "</g>\n",
       "<!-- 12&#45;&gt;13 -->\n",
       "<g id=\"edge13\" class=\"edge\">\n",
       "<title>12&#45;&gt;13</title>\n",
       "<path fill=\"none\" stroke=\"black\" d=\"M876.88,-109.64C876.88,-101.81 876.88,-93.63 876.88,-85.72\"/>\n",
       "<polygon fill=\"black\" stroke=\"black\" points=\"880.38,-85.91 876.88,-75.91 873.38,-85.91 880.38,-85.91\"/>\n",
       "</g>\n",
       "<!-- 14 -->\n",
       "<g id=\"node15\" class=\"node\">\n",
       "<title>14</title>\n",
       "<path fill=\"#399de5\" stroke=\"black\" d=\"M1050.25,-74C1050.25,-74 961.5,-74 961.5,-74 955.5,-74 949.5,-68 949.5,-62 949.5,-62 949.5,-12 949.5,-12 949.5,-6 955.5,0 961.5,0 961.5,0 1050.25,0 1050.25,0 1056.25,0 1062.25,-6 1062.25,-12 1062.25,-12 1062.25,-62 1062.25,-62 1062.25,-68 1056.25,-74 1050.25,-74\"/>\n",
       "<text text-anchor=\"start\" x=\"977\" y=\"-56.7\" font-family=\"Helvetica,sans-Serif\" font-size=\"14.00\">gini = 0.0</text>\n",
       "<text text-anchor=\"start\" x=\"958.62\" y=\"-40.2\" font-family=\"Helvetica,sans-Serif\" font-size=\"14.00\">samples = 938</text>\n",
       "<text text-anchor=\"start\" x=\"957.5\" y=\"-23.7\" font-family=\"Helvetica,sans-Serif\" font-size=\"14.00\">value = [0, 938]</text>\n",
       "<text text-anchor=\"start\" x=\"959.38\" y=\"-7.2\" font-family=\"Helvetica,sans-Serif\" font-size=\"14.00\">class = Cliente</text>\n",
       "</g>\n",
       "<!-- 12&#45;&gt;14 -->\n",
       "<g id=\"edge14\" class=\"edge\">\n",
       "<title>12&#45;&gt;14</title>\n",
       "<path fill=\"none\" stroke=\"black\" d=\"M926.38,-109.64C936.48,-100.53 947.11,-90.96 957.18,-81.88\"/>\n",
       "<polygon fill=\"black\" stroke=\"black\" points=\"959.28,-84.7 964.37,-75.41 954.59,-79.5 959.28,-84.7\"/>\n",
       "</g>\n",
       "</g>\n",
       "</svg>\n"
      ],
      "text/plain": [
       "<graphviz.sources.Source at 0x25316a208d0>"
      ]
     },
     "execution_count": 152,
     "metadata": {},
     "output_type": "execute_result"
    }
   ],
   "source": [
    "features = X.columns\n",
    "targets = [\"No cliente\",\"Cliente\"]\n",
    "data = export_graphviz(tree, out_file=None, feature_names=features, class_names=targets, filled=True, rounded=True, special_characters=True)\n",
    "graph = graphviz.Source(data)\n",
    "graph"
   ]
  },
  {
   "cell_type": "markdown",
   "id": "ff386252",
   "metadata": {},
   "source": [
    "### La variable del root node es la cantidad de mensajes, esto es porque es la variable que mas separa, ya que mientras mas alto es el gini mas impuerzas tiene."
   ]
  },
  {
   "cell_type": "code",
   "execution_count": 153,
   "id": "4bb340f3",
   "metadata": {},
   "outputs": [],
   "source": [
    "FP = 13\n",
    "TP = 264\n",
    "TN = 265\n",
    "FN = 19"
   ]
  },
  {
   "cell_type": "code",
   "execution_count": 154,
   "id": "2dd144e7",
   "metadata": {},
   "outputs": [
    {
     "name": "stdout",
     "output_type": "stream",
     "text": [
      "El costo de publicidad desperdiciado fue de 130\n"
     ]
    }
   ],
   "source": [
    "print(f'El costo de publicidad desperdiciado fue de {10*FP}')"
   ]
  },
  {
   "cell_type": "code",
   "execution_count": 155,
   "id": "a2ad2a85",
   "metadata": {},
   "outputs": [
    {
     "name": "stdout",
     "output_type": "stream",
     "text": [
      "El ROI esperado es de: 1329.6028880866427\n"
     ]
    }
   ],
   "source": [
    "print(f'El ROI esperado es de: {((TP*150)- ((TP+FP)*10))/(TP+FP)*10}')"
   ]
  },
  {
   "cell_type": "code",
   "execution_count": null,
   "id": "409f2936",
   "metadata": {},
   "outputs": [],
   "source": []
  }
 ],
 "metadata": {
  "kernelspec": {
   "display_name": "Python 3 (ipykernel)",
   "language": "python",
   "name": "python3"
  },
  "language_info": {
   "codemirror_mode": {
    "name": "ipython",
    "version": 3
   },
   "file_extension": ".py",
   "mimetype": "text/x-python",
   "name": "python",
   "nbconvert_exporter": "python",
   "pygments_lexer": "ipython3",
   "version": "3.11.5"
  }
 },
 "nbformat": 4,
 "nbformat_minor": 5
}
